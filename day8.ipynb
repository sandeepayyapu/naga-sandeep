{
  "nbformat": 4,
  "nbformat_minor": 0,
  "metadata": {
    "colab": {
      "provenance": []
    },
    "kernelspec": {
      "name": "python3",
      "display_name": "Python 3"
    },
    "language_info": {
      "name": "python"
    }
  },
  "cells": [
    {
      "cell_type": "code",
      "execution_count": null,
      "metadata": {
        "colab": {
          "base_uri": "https://localhost:8080/"
        },
        "id": "slbbAzJpzWCW",
        "outputId": "8f645681-46f9-471c-f5c0-86424d22f8f5"
      },
      "outputs": [
        {
          "output_type": "stream",
          "name": "stdout",
          "text": [
            "[6, 6, ' cars', 6, 7, 8, 9, 0, 8.89, -5, 0.78]\n"
          ]
        }
      ],
      "source": [
        "l1= [6,6,6,7,8,9,0,8.89,-5,0.78]\n",
        "l1.insert(2, \" cars\")\n",
        "print(l1)"
      ]
    },
    {
      "cell_type": "code",
      "source": [
        "def profile(name,age,place):\n",
        "   print(name,age,place)\n",
        "profile(\"sandy, 21, kadapa\")"
      ],
      "metadata": {
        "id": "Tr6z4iiu0ab3"
      },
      "execution_count": null,
      "outputs": []
    },
    {
      "cell_type": "code",
      "source": [
        "def profile(name, age, place):\n",
        "   txt = \"My name is {}. i am {} years of old . i am  from {}\"\n",
        "   print(txt.format(name, age, place))\n",
        "\n",
        "profile(\"sandy\", 21, \"kadapa\")"
      ],
      "metadata": {
        "colab": {
          "base_uri": "https://localhost:8080/"
        },
        "id": "e5ChKEAN3GFU",
        "outputId": "cadc8b71-f456-4809-bb1a-b133aeaf377a"
      },
      "execution_count": null,
      "outputs": [
        {
          "output_type": "stream",
          "name": "stdout",
          "text": [
            "My name is sandy. i am 21 years of old . i am  from kadapa\n"
          ]
        }
      ]
    },
    {
      "cell_type": "code",
      "source": [
        "# ! Eg:4\n",
        "#? Function with return statement"
      ],
      "metadata": {
        "id": "bu8Ew5OK4IAs"
      },
      "execution_count": null,
      "outputs": []
    },
    {
      "cell_type": "code",
      "source": [
        "def f1():\n",
        "  z = 8\n",
        "f1()\n",
        "print(z)"
      ],
      "metadata": {
        "id": "a4w7AJx04rej"
      },
      "execution_count": null,
      "outputs": []
    },
    {
      "cell_type": "code",
      "source": [
        "def f1(a,b):\n",
        " c = a*b\n",
        "return c\n",
        "f1( 6,8)"
      ],
      "metadata": {
        "colab": {
          "base_uri": "https://localhost:8080/",
          "height": 109
        },
        "id": "tz1iIJQM5Fm_",
        "outputId": "6b7a2175-8f39-477b-bc6a-5ca2fbc20594"
      },
      "execution_count": null,
      "outputs": [
        {
          "output_type": "error",
          "ename": "SyntaxError",
          "evalue": "'return' outside function (<ipython-input-9-4c7972b249aa>, line 3)",
          "traceback": [
            "\u001b[0;36m  File \u001b[0;32m\"<ipython-input-9-4c7972b249aa>\"\u001b[0;36m, line \u001b[0;32m3\u001b[0m\n\u001b[0;31m    return c\u001b[0m\n\u001b[0m    ^\u001b[0m\n\u001b[0;31mSyntaxError\u001b[0m\u001b[0;31m:\u001b[0m 'return' outside function\n"
          ]
        }
      ]
    },
    {
      "cell_type": "code",
      "source": [
        "# return\n",
        "1.) A variable declared inside the function can be accessed outside the function usinf the function.\n",
        "2.) Return does not print anything.\n",
        "3.) we cannot write  any code below return statement.\n"
      ],
      "metadata": {
        "id": "3AlmOGi05GaF"
      },
      "execution_count": null,
      "outputs": []
    },
    {
      "cell_type": "code",
      "source": [
        "def f1(a,b):\n",
        " c = a*b\n",
        " return c\n",
        "print(f1(6,8))\n",
        "obj = f1(6,8)\n",
        "onj = f1(4,6)\n"
      ],
      "metadata": {
        "colab": {
          "base_uri": "https://localhost:8080/"
        },
        "id": "5huNPglu5Gls",
        "outputId": "6a4c1a5a-c411-4685-aacb-88ab4900bba8"
      },
      "execution_count": null,
      "outputs": [
        {
          "output_type": "stream",
          "name": "stdout",
          "text": [
            "48\n"
          ]
        }
      ]
    },
    {
      "cell_type": "code",
      "source": [
        "def gracemark(object):\n",
        "   print(object+4)\n",
        "gracemark(object)\n",
        "gracemark(object1)"
      ],
      "metadata": {
        "colab": {
          "base_uri": "https://localhost:8080/",
          "height": 307
        },
        "id": "nmJL_7eZ5Gq-",
        "outputId": "c6a37252-d648-4aea-898b-998c91e62ed8"
      },
      "execution_count": null,
      "outputs": [
        {
          "output_type": "error",
          "ename": "TypeError",
          "evalue": "unsupported operand type(s) for +: 'type' and 'int'",
          "traceback": [
            "\u001b[0;31m---------------------------------------------------------------------------\u001b[0m",
            "\u001b[0;31mTypeError\u001b[0m                                 Traceback (most recent call last)",
            "\u001b[0;32m<ipython-input-13-0490fcd6553e>\u001b[0m in \u001b[0;36m<cell line: 3>\u001b[0;34m()\u001b[0m\n\u001b[1;32m      1\u001b[0m \u001b[0;32mdef\u001b[0m \u001b[0mgracemark\u001b[0m\u001b[0;34m(\u001b[0m\u001b[0mobject\u001b[0m\u001b[0;34m)\u001b[0m\u001b[0;34m:\u001b[0m\u001b[0;34m\u001b[0m\u001b[0;34m\u001b[0m\u001b[0m\n\u001b[1;32m      2\u001b[0m    \u001b[0mprint\u001b[0m\u001b[0;34m(\u001b[0m\u001b[0mobject\u001b[0m\u001b[0;34m+\u001b[0m\u001b[0;36m4\u001b[0m\u001b[0;34m)\u001b[0m\u001b[0;34m\u001b[0m\u001b[0;34m\u001b[0m\u001b[0m\n\u001b[0;32m----> 3\u001b[0;31m \u001b[0mgracemark\u001b[0m\u001b[0;34m(\u001b[0m\u001b[0mobject\u001b[0m\u001b[0;34m)\u001b[0m\u001b[0;34m\u001b[0m\u001b[0;34m\u001b[0m\u001b[0m\n\u001b[0m\u001b[1;32m      4\u001b[0m \u001b[0mgracemark\u001b[0m\u001b[0;34m(\u001b[0m\u001b[0mobject1\u001b[0m\u001b[0;34m)\u001b[0m\u001b[0;34m\u001b[0m\u001b[0;34m\u001b[0m\u001b[0m\n",
            "\u001b[0;32m<ipython-input-13-0490fcd6553e>\u001b[0m in \u001b[0;36mgracemark\u001b[0;34m(object)\u001b[0m\n\u001b[1;32m      1\u001b[0m \u001b[0;32mdef\u001b[0m \u001b[0mgracemark\u001b[0m\u001b[0;34m(\u001b[0m\u001b[0mobject\u001b[0m\u001b[0;34m)\u001b[0m\u001b[0;34m:\u001b[0m\u001b[0;34m\u001b[0m\u001b[0;34m\u001b[0m\u001b[0m\n\u001b[0;32m----> 2\u001b[0;31m    \u001b[0mprint\u001b[0m\u001b[0;34m(\u001b[0m\u001b[0mobject\u001b[0m\u001b[0;34m+\u001b[0m\u001b[0;36m4\u001b[0m\u001b[0;34m)\u001b[0m\u001b[0;34m\u001b[0m\u001b[0;34m\u001b[0m\u001b[0m\n\u001b[0m\u001b[1;32m      3\u001b[0m \u001b[0mgracemark\u001b[0m\u001b[0;34m(\u001b[0m\u001b[0mobject\u001b[0m\u001b[0;34m)\u001b[0m\u001b[0;34m\u001b[0m\u001b[0;34m\u001b[0m\u001b[0m\n\u001b[1;32m      4\u001b[0m \u001b[0mgracemark\u001b[0m\u001b[0;34m(\u001b[0m\u001b[0mobject1\u001b[0m\u001b[0;34m)\u001b[0m\u001b[0;34m\u001b[0m\u001b[0;34m\u001b[0m\u001b[0m\n",
            "\u001b[0;31mTypeError\u001b[0m: unsupported operand type(s) for +: 'type' and 'int'"
          ]
        }
      ]
    },
    {
      "cell_type": "code",
      "source": [
        "def palindrome(n):\n",
        "   string= str(n)\n",
        "   rev = str(n)[::-1]\n",
        "   if string==rev:\n",
        "     print(n,\" polindrome\")\n",
        "   else:\n",
        "      print(\" Not palindrome\")\n",
        "a= int(input(\" enter the valu:\"))\n",
        "palindrome(a)\n",
        "\n"
      ],
      "metadata": {
        "colab": {
          "base_uri": "https://localhost:8080/"
        },
        "id": "-9XXUPRJ5G0K",
        "outputId": "f991bb69-db0b-4ecd-ccf6-511533c2d19b"
      },
      "execution_count": null,
      "outputs": [
        {
          "output_type": "stream",
          "name": "stdout",
          "text": [
            " enter the valu:25\n",
            " Not palindrome\n"
          ]
        }
      ]
    },
    {
      "cell_type": "code",
      "source": [
        "#? based on the declaration of parameter and args\n",
        "#? function are divided into  5 catagories\n",
        "# positional args\n",
        "# Keyword args\n",
        "# default args\n",
        "# variable length args\n",
        "# keyword variable length args\n"
      ],
      "metadata": {
        "id": "8alPrLjN5G5T"
      },
      "execution_count": null,
      "outputs": []
    },
    {
      "cell_type": "code",
      "source": [
        "# * positinal args\n",
        "# Eg:1\n",
        "#? the position ahve to be same as position as arguments\n",
        "def profile(name, phone, mark):\n",
        "  txt = \" my name is {}. My phone number is{}. i got {}marks.\"\n",
        "  print(txt.format(name, phone, mark))\n",
        "\n",
        "profile (8328164032,\"sandeep\", 100)"
      ],
      "metadata": {
        "colab": {
          "base_uri": "https://localhost:8080/"
        },
        "id": "b7eJunwj5HB1",
        "outputId": "d94ac80c-5a94-4272-e13a-2e26f93ee638"
      },
      "execution_count": null,
      "outputs": [
        {
          "output_type": "stream",
          "name": "stdout",
          "text": [
            " my name is 8328164032. My phone number issandeep. i got 100marks.\n"
          ]
        }
      ]
    },
    {
      "cell_type": "code",
      "source": [
        "# * keyword args\n",
        "#! Eg:1\n",
        "# ? To overcome the disadvantage of position args, we use  keywords arg\n",
        "# ? it is the process of initialising the parameter with the argd while calling the function\n",
        "def profile(name, phone, mark):\n",
        "  txt = \" my name is {}. My phone number is{}. i got {}marks.\"\n",
        "  print(txt.format(name, phone, mark))\n",
        "\n",
        "profile( name= \"sandeep\", mark=100, phone=8328164032)"
      ],
      "metadata": {
        "colab": {
          "base_uri": "https://localhost:8080/"
        },
        "id": "NI7s6okl5HGf",
        "outputId": "20569678-0597-4ef0-e90f-13b664dd8908"
      },
      "execution_count": null,
      "outputs": [
        {
          "output_type": "stream",
          "name": "stdout",
          "text": [
            " my name is sandeep. My phone number is8328164032. i got 100marks.\n"
          ]
        }
      ]
    },
    {
      "cell_type": "code",
      "source": [
        "# todo ---> Exception of keywords args function\n",
        "def profile(name, phone, mark):\n",
        "  txt = \" my name is {}. My phone number is{}. i got {}marks.\"\n",
        "  print(txt.format(name, phone, mark))\n",
        "\n",
        "# profile(name= \"sandeep\", 83))"
      ],
      "metadata": {
        "id": "VnlvB_reLeic"
      },
      "execution_count": null,
      "outputs": []
    },
    {
      "cell_type": "code",
      "source": [
        "#--> Todo = Exception of keyword args function\n",
        "def profile(name,age,place):\n",
        "    txt = \"My name is {}.iam {} years old.iam from {}.\"\n",
        "    print(txt.format(name,age,place))\n",
        "profile(\"sandeep\",21,place= \"kdp\")#> the combination of argumemnts type should follow positional after  Keyword args"
      ],
      "metadata": {
        "colab": {
          "base_uri": "https://localhost:8080/"
        },
        "id": "Gjr-C1D5N-z7",
        "outputId": "c4b374f1-4deb-47c3-dcdb-fcc674382e12"
      },
      "execution_count": null,
      "outputs": [
        {
          "output_type": "stream",
          "name": "stdout",
          "text": [
            "My name is sandeep.iam 21 years old.iam from kdp.\n"
          ]
        }
      ]
    },
    {
      "cell_type": "code",
      "source": [
        "# * default args\n",
        " # The method of assiging the argument to the prameter while declaring\n",
        "def profile(name,age,place):\n",
        "    txt = \"My name is {}.iam {} years old.iam from {}.\"\n",
        "    print(txt.format(name,age,place))\n",
        "profile(\"sandeep\",21,place= \"kdp\")"
      ],
      "metadata": {
        "colab": {
          "base_uri": "https://localhost:8080/"
        },
        "id": "WvWFMEMePa-w",
        "outputId": "c95df367-610a-4e0c-88c5-ddc0b043cf05"
      },
      "execution_count": null,
      "outputs": [
        {
          "output_type": "stream",
          "name": "stdout",
          "text": [
            "My name is sandeep.iam 21 years old.iam from kdp.\n"
          ]
        }
      ]
    },
    {
      "cell_type": "code",
      "source": [
        "def profile(name,age,place=\" kadapa\"):\n",
        "    txt = \"My name is {}.iam {} years old.iam from {}.\"\n",
        "    print(txt.format(name,age,place))\n",
        "profile(\"sandeep\",21,\" Guntur \")\n",
        "if place==\"kadapa\":\n",
        "     print( place eligible)\n",
        "else:\n",
        "     print( place |not eligible)"
      ],
      "metadata": {
        "id": "-3ikDHi9QYIo"
      },
      "execution_count": null,
      "outputs": []
    },
    {
      "cell_type": "code",
      "source": [
        "def profile(name,age,place=\" kadapa\"):\n",
        "  if place == \"kadapa\" or place==\"kadapa\" or place==\"kadapa\":\n",
        "    txt = \"My name is {}.iam {} years old.iam from {}.\"\n",
        "    print(txt.format(name,age,place))\n",
        "  else:\n",
        "     print(txt.formate (name, age, place))\n",
        "profile (\"sandeep\", 21 , kadapa)"
      ],
      "metadata": {
        "id": "DTb_WMxFTes7"
      },
      "execution_count": null,
      "outputs": []
    },
    {
      "cell_type": "code",
      "source": [
        "# variable length params\n",
        "#! Eg:1\n",
        "# To pass more then 1 to a parameter means we use variables lemgth args\n",
        "# To convert normal parameter to variable length param,add * to ther prefix of param\n",
        "def profile(*name):\n",
        "  print(\"my name is\", \"name\")\n",
        "  profile(\"sandy\", 'name2','name3')"
      ],
      "metadata": {
        "id": "KyMcw8l-VN91"
      },
      "execution_count": null,
      "outputs": []
    },
    {
      "cell_type": "code",
      "source": [
        "name = \"sandy\",\"name1\",\"name2\"\n",
        "for val in name:\n",
        "  print(\" My name is \", val)\n",
        "profile (\" sandy\", 'name2',' name3')"
      ],
      "metadata": {
        "id": "3TuYTlMFW-mQ"
      },
      "execution_count": null,
      "outputs": []
    },
    {
      "cell_type": "code",
      "source": [
        "# ? Writre a python script to genrate and print a dictionary  that contains a numbers ( between 1 and n) in the form (x , x*x)"
      ],
      "metadata": {
        "id": "R2evpEsXOMH4"
      },
      "execution_count": null,
      "outputs": []
    },
    {
      "cell_type": "code",
      "source": [
        "def profile(*name):\n",
        "  foe val in name:\n",
        "  print(\"my name is\",val, \"my age is \",age)\n",
        "  profile(\"sandy\", 'name2','name3'28)\n",
        "\n",
        "def profile(age, *name)\n",
        " for val in name:\n",
        "    print (\" my name is\",val, \" my age is\", age)\n",
        "profile(28,\"sandy\",'name2','name3')"
      ],
      "metadata": {
        "id": "ga6F6ORapG3P"
      },
      "execution_count": null,
      "outputs": []
    },
    {
      "cell_type": "code",
      "source": [
        "  n= 5\n",
        "  {1:1,2:4,3:9,4:16,5:25}\n",
        "  n = int(input(\"enter the number:\"))\n",
        "  def d1(n):\n",
        "    d1 = {}\n",
        "    for val in range(1,n+1):\n",
        "      d1[val]=val**2\n",
        "  print(d1)\n",
        "d1(5)"
      ],
      "metadata": {
        "colab": {
          "base_uri": "https://localhost:8080/"
        },
        "id": "F0eilCg1tux4",
        "outputId": "80ae50bf-cdbf-4950-e359-c7a5cefe810e"
      },
      "execution_count": 3,
      "outputs": [
        {
          "output_type": "stream",
          "name": "stdout",
          "text": [
            "enter the number:25\n",
            "<function d1 at 0x7be703e9e200>\n"
          ]
        }
      ]
    },
    {
      "cell_type": "code",
      "source": [
        "# !------> object oriented programming\n",
        "# The paradigms of objects oriented programming are\n",
        "# class\n",
        "# objects\n",
        "# inheritance\n",
        "# polymorphism\n",
        "# abstraction\n",
        "# encapsulation"
      ],
      "metadata": {
        "id": "N4F5KV6n1Ba2"
      },
      "execution_count": null,
      "outputs": []
    },
    {
      "cell_type": "code",
      "source": [
        "class c1:\n",
        "  name1 = \"sandy\"\n",
        "  print(name1)"
      ],
      "metadata": {
        "colab": {
          "base_uri": "https://localhost:8080/"
        },
        "id": "slEJ8ISU3N8K",
        "outputId": "1561440f-b204-4940-c5ee-296c5dedaaf0"
      },
      "execution_count": 4,
      "outputs": [
        {
          "output_type": "stream",
          "name": "stdout",
          "text": [
            "sandy\n"
          ]
        }
      ]
    },
    {
      "cell_type": "code",
      "source": [
        "class person:\n",
        "   name = \" sandy\"\n",
        "c = person()\n",
        "print(c.name)"
      ],
      "metadata": {
        "colab": {
          "base_uri": "https://localhost:8080/"
        },
        "id": "jJWeFmez7hwa",
        "outputId": "2ee1dec7-e9fb-439d-8840-d6ac03c8de61"
      },
      "execution_count": 5,
      "outputs": [
        {
          "output_type": "stream",
          "name": "stdout",
          "text": [
            " sandy\n"
          ]
        }
      ]
    },
    {
      "cell_type": "code",
      "source": [
        "c = person()\n",
        "# The process of creation of an object is called as Instantiation\n",
        "# print(c.name)"
      ],
      "metadata": {
        "id": "JzfRdFZLB0pb"
      },
      "execution_count": null,
      "outputs": []
    },
    {
      "cell_type": "code",
      "source": [
        "#? Eg:3\n",
        "# create of a method\n",
        "# when the function is creacted with a class is called as method\n",
        "\n",
        "class person:\n",
        "  def display(): # It is calles as a method\n",
        "    print(\" hello welcome to classes\")\n",
        "p = person()"
      ],
      "metadata": {
        "id": "2Twhdqi0CI4J"
      },
      "execution_count": 6,
      "outputs": []
    },
    {
      "cell_type": "code",
      "source": [
        "class person1:\n",
        "  fname = \"sandeep\"\n",
        "  i name = \"T\"\n",
        "  def first_name(self):\n",
        "    print(self,fname)\n",
        "  def full_name(self):\n",
        "    print(self.fname=\"\"+self.lanme)"
      ],
      "metadata": {
        "id": "XfoRk485Cwt4"
      },
      "execution_count": null,
      "outputs": []
    },
    {
      "cell_type": "code",
      "source": [
        " # construction---->_init_()\n",
        " # this is a special method which has the BILITY TO EXCUTE IOTSELF WITHOUT\n",
        " # calling it manullay through the process of instantiation\n",
        "\n",
        "class profile:\n",
        "  def_init_(self)\n",
        "    print(\"hey\")\n",
        "p = profile()"
      ],
      "metadata": {
        "id": "97UaV_ewLNIA"
      },
      "execution_count": null,
      "outputs": []
    }
  ]
}
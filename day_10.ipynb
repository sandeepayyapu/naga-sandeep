{
  "nbformat": 4,
  "nbformat_minor": 0,
  "metadata": {
    "colab": {
      "provenance": []
    },
    "kernelspec": {
      "name": "python3",
      "display_name": "Python 3"
    },
    "language_info": {
      "name": "python"
    }
  },
  "cells": [
    {
      "cell_type": "code",
      "execution_count": 1,
      "metadata": {
        "colab": {
          "base_uri": "https://localhost:8080/"
        },
        "id": "wOSrkeG6Fmn6",
        "outputId": "47261352-ced4-49a8-8c62-29a82b1de370"
      },
      "outputs": [
        {
          "output_type": "stream",
          "name": "stdout",
          "text": [
            "67 is not a strong number.\n"
          ]
        }
      ],
      "source": [
        "def factorial(n):\n",
        "    if n == 0:\n",
        "        return 1\n",
        "    else:\n",
        "        return n * factorial(n - 1)\n",
        "\n",
        "def is_strong_number(num):\n",
        "    original_num = num\n",
        "    sum_of_factorials = 0\n",
        "    while num > 0:\n",
        "        digit = num % 10\n",
        "        sum_of_factorials += factorial(digit)\n",
        "        num //= 10\n",
        "    return sum_of_factorials == original_num\n",
        "\n",
        "n = 67\n",
        "if is_strong_number(n):\n",
        "    print(n, \"is a strong number.\")\n",
        "else:\n",
        "    print(n, \"is not a strong number.\")\n"
      ]
    },
    {
      "cell_type": "code",
      "source": [
        "# method riding\n",
        "# * ploymorphism in classes using inheriance\n",
        "# ! Eg:1\n",
        "\n",
        "class bank:\n",
        "  def ratio(self):\n",
        "    print(\"All banks has repo rate\")\n",
        "class SBI(bank):\n",
        "  def ratio(self):\n",
        "    print(\"SBI rate is 9%\")\n",
        "class IOB(bank):\n",
        "  def ratio(self):\n",
        "    print(\"IOB rate is 7.5%\")\n",
        "\n",
        "i = IOB()\n",
        "i.ratio()\n",
        "\n",
        "s= SBI()\n",
        "s.ratio()"
      ],
      "metadata": {
        "colab": {
          "base_uri": "https://localhost:8080/"
        },
        "id": "3Kr1LAQiJb1M",
        "outputId": "3b5e56c7-5f86-452e-80f9-e04a2c0ab01f"
      },
      "execution_count": 5,
      "outputs": [
        {
          "output_type": "stream",
          "name": "stdout",
          "text": [
            "IOB rate is 7.5%\n",
            "SBI rate is 9%\n"
          ]
        }
      ]
    },
    {
      "cell_type": "code",
      "source": [
        "# ? Eg:2\n",
        "class USA:\n",
        "  def langauge(self):\n",
        "    print(\" English\")\n",
        "  def capital(self):\n",
        "    print(\" Wishington DC\")\n",
        "\n",
        "class India:\n",
        "   def langauge(self):\n",
        "     print(\" None\")\n",
        "   def capital(self):\n",
        "     print(\" New Delhi\")\n",
        "\n",
        "I = India()\n",
        "I.langauge()\n",
        "I.capital()"
      ],
      "metadata": {
        "colab": {
          "base_uri": "https://localhost:8080/"
        },
        "id": "8WhwmqrjLue9",
        "outputId": "17118b46-869e-4577-d9aa-550513a1ea7e"
      },
      "execution_count": 9,
      "outputs": [
        {
          "output_type": "stream",
          "name": "stdout",
          "text": [
            " None\n",
            " New Delhi\n"
          ]
        }
      ]
    },
    {
      "cell_type": "code",
      "source": [
        "# ? Eg:3\n",
        "# ploymorphism  using objects\n",
        "\n",
        "# c1, c2,---->c1 = print(c1), print(c2)\n",
        "\n",
        "class c1():\n",
        "  def f1(self):\n",
        "    print(\"c1\")\n",
        "class c2(c1):\n",
        "  def f1(self):\n",
        "    print(\" c2 \")\n",
        "\n",
        "obj1 = c2()\n",
        "obj1.f1()\n",
        "\n",
        "obj2 = c1()\n",
        "obj2.f1()\n"
      ],
      "metadata": {
        "colab": {
          "base_uri": "https://localhost:8080/"
        },
        "id": "TMPW-8VBOaVE",
        "outputId": "caa9f7bd-a48a-490a-bb09-39a9c5c810c3"
      },
      "execution_count": 12,
      "outputs": [
        {
          "output_type": "stream",
          "name": "stdout",
          "text": [
            " c2 \n",
            "c1\n"
          ]
        }
      ]
    },
    {
      "cell_type": "code",
      "source": [
        "# ? Eg :4\n",
        "class c1():\n",
        "  def f1(self):\n",
        "    print(\"c1\")\n",
        "class c2(c1):\n",
        "  def f1(self):\n",
        "    print(\" c2 \")\n",
        "\n",
        "obj1 = c2()\n",
        "obj2 = c1()\n",
        "def display(a):\n",
        "    a.f1()\n",
        "display(obj1)\n",
        "display(obj2)"
      ],
      "metadata": {
        "colab": {
          "base_uri": "https://localhost:8080/"
        },
        "id": "sIL4OSCwQ7dM",
        "outputId": "4d4ae448-9aea-4090-b596-6dee7b40369f"
      },
      "execution_count": 15,
      "outputs": [
        {
          "output_type": "stream",
          "name": "stdout",
          "text": [
            " c2 \n",
            "c1\n"
          ]
        }
      ]
    },
    {
      "cell_type": "code",
      "source": [
        "#* Changing the functionality of builtin function\n",
        "class shooping:\n",
        "  def item_init_(self, l1):\n",
        "      self.items = l1\n",
        "\n",
        "  def __len__(self):\n",
        "     length = len(self.items)\n",
        "     return length\n",
        "\n",
        "s = shooping([1,2,3,4,5])\n",
        "print(len(s))\n",
        "s.iteam_list([1,2,3,4,5])\n"
      ],
      "metadata": {
        "id": "QRw4Ek0BS9Yy"
      },
      "execution_count": null,
      "outputs": []
    },
    {
      "cell_type": "code",
      "source": [
        "a = 9\n",
        "b = 6\n",
        "print(a+b)\n",
        "print(a.__add__(b))\n"
      ],
      "metadata": {
        "colab": {
          "base_uri": "https://localhost:8080/"
        },
        "id": "DdZB5uQNVxqT",
        "outputId": "2613ecc6-c778-4958-96a8-677ed46487f7"
      },
      "execution_count": 21,
      "outputs": [
        {
          "output_type": "stream",
          "name": "stdout",
          "text": [
            "15\n",
            "15\n"
          ]
        }
      ]
    },
    {
      "cell_type": "code",
      "source": [
        "# ! ----> Method overloading\n",
        "# ? Eg:1\n",
        "class suming:\n",
        "  def add(self, a,b):\n",
        "     print(a+b)\n",
        "  def add(self,a,b,c):\n",
        "    print(a+b+c)\n",
        "\n",
        "s = suming()\n",
        "s.add(4,3) # error\n",
        "s.add(4,5,1)"
      ],
      "metadata": {
        "id": "K99uP_zieaNb"
      },
      "execution_count": null,
      "outputs": []
    },
    {
      "cell_type": "code",
      "source": [
        "class suming:\n",
        "  def add(self, a=None, b=None, c= None):\n",
        "    if a!=None and b!= None and c!= None:\n",
        "      print(a+b+c)\n",
        "\n",
        "    elif a!=None and b!=None:\n",
        "      print(a+b)\n",
        "    else:\n",
        "       print(a)\n",
        "\n",
        "obj= suming()\n",
        "obj.add(2)\n",
        "obj.add(3,4)\n",
        "obj.add(1,2,3)"
      ],
      "metadata": {
        "colab": {
          "base_uri": "https://localhost:8080/"
        },
        "id": "AnYN60aNhDao",
        "outputId": "58244cd2-5fac-4c8e-a398-1216cce61b0a"
      },
      "execution_count": 29,
      "outputs": [
        {
          "output_type": "stream",
          "name": "stdout",
          "text": [
            "2\n",
            "7\n",
            "6\n"
          ]
        }
      ]
    },
    {
      "cell_type": "code",
      "source": [
        "# !----> A"
      ],
      "metadata": {
        "id": "1i9LGqQhlCvd"
      },
      "execution_count": null,
      "outputs": []
    }
  ]
}
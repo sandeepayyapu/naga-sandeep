{
  "nbformat": 4,
  "nbformat_minor": 0,
  "metadata": {
    "colab": {
      "provenance": []
    },
    "kernelspec": {
      "name": "python3",
      "display_name": "Python 3"
    },
    "language_info": {
      "name": "python"
    }
  },
  "cells": [
    {
      "cell_type": "code",
      "execution_count": null,
      "metadata": {
        "colab": {
          "base_uri": "https://localhost:8080/"
        },
        "id": "wOSrkeG6Fmn6",
        "outputId": "47261352-ced4-49a8-8c62-29a82b1de370"
      },
      "outputs": [
        {
          "output_type": "stream",
          "name": "stdout",
          "text": [
            "67 is not a strong number.\n"
          ]
        }
      ],
      "source": [
        "def factorial(n):\n",
        "    if n == 0:\n",
        "        return 1\n",
        "    else:\n",
        "        return n * factorial(n - 1)\n",
        "\n",
        "def is_strong_number(num):\n",
        "    original_num = num\n",
        "    sum_of_factorials = 0\n",
        "    while num > 0:\n",
        "        digit = num % 10\n",
        "        sum_of_factorials += factorial(digit)\n",
        "        num //= 10\n",
        "    return sum_of_factorials == original_num\n",
        "\n",
        "n = 67\n",
        "if is_strong_number(n):\n",
        "    print(n, \"is a strong number.\")\n",
        "else:\n",
        "    print(n, \"is not a strong number.\")\n"
      ]
    },
    {
      "cell_type": "code",
      "source": [
        "# method riding\n",
        "# * ploymorphism in classes using inheriance\n",
        "# ! Eg:1\n",
        "\n",
        "class bank:\n",
        "  def ratio(self):\n",
        "    print(\"All banks has repo rate\")\n",
        "class SBI(bank):\n",
        "  def ratio(self):\n",
        "    print(\"SBI rate is 9%\")\n",
        "class IOB(bank):\n",
        "  def ratio(self):\n",
        "    print(\"IOB rate is 7.5%\")\n",
        "\n",
        "i = IOB()\n",
        "i.ratio()\n",
        "\n",
        "s= SBI()\n",
        "s.ratio()"
      ],
      "metadata": {
        "colab": {
          "base_uri": "https://localhost:8080/"
        },
        "id": "3Kr1LAQiJb1M",
        "outputId": "3b5e56c7-5f86-452e-80f9-e04a2c0ab01f"
      },
      "execution_count": null,
      "outputs": [
        {
          "output_type": "stream",
          "name": "stdout",
          "text": [
            "IOB rate is 7.5%\n",
            "SBI rate is 9%\n"
          ]
        }
      ]
    },
    {
      "cell_type": "code",
      "source": [
        "# ? Eg:2\n",
        "class USA:\n",
        "  def langauge(self):\n",
        "    print(\" English\")\n",
        "  def capital(self):\n",
        "    print(\" Wishington DC\")\n",
        "\n",
        "class India:\n",
        "   def langauge(self):\n",
        "     print(\" None\")\n",
        "   def capital(self):\n",
        "     print(\" New Delhi\")\n",
        "\n",
        "I = India()\n",
        "I.langauge()\n",
        "I.capital()"
      ],
      "metadata": {
        "colab": {
          "base_uri": "https://localhost:8080/"
        },
        "id": "8WhwmqrjLue9",
        "outputId": "17118b46-869e-4577-d9aa-550513a1ea7e"
      },
      "execution_count": null,
      "outputs": [
        {
          "output_type": "stream",
          "name": "stdout",
          "text": [
            " None\n",
            " New Delhi\n"
          ]
        }
      ]
    },
    {
      "cell_type": "code",
      "source": [
        "# ? Eg:3\n",
        "# ploymorphism  using objects\n",
        "\n",
        "# c1, c2,---->c1 = print(c1), print(c2)\n",
        "\n",
        "class c1():\n",
        "  def f1(self):\n",
        "    print(\"c1\")\n",
        "class c2(c1):\n",
        "  def f1(self):\n",
        "    print(\" c2 \")\n",
        "\n",
        "obj1 = c2()\n",
        "obj1.f1()\n",
        "\n",
        "obj2 = c1()\n",
        "obj2.f1()\n"
      ],
      "metadata": {
        "colab": {
          "base_uri": "https://localhost:8080/"
        },
        "id": "TMPW-8VBOaVE",
        "outputId": "caa9f7bd-a48a-490a-bb09-39a9c5c810c3"
      },
      "execution_count": null,
      "outputs": [
        {
          "output_type": "stream",
          "name": "stdout",
          "text": [
            " c2 \n",
            "c1\n"
          ]
        }
      ]
    },
    {
      "cell_type": "code",
      "source": [
        "# ? Eg :4\n",
        "class c1():\n",
        "  def f1(self):\n",
        "    print(\"c1\")\n",
        "class c2(c1):\n",
        "  def f1(self):\n",
        "    print(\" c2 \")\n",
        "\n",
        "obj1 = c2()\n",
        "obj2 = c1()\n",
        "def display(a):\n",
        "    a.f1()\n",
        "display(obj1)\n",
        "display(obj2)"
      ],
      "metadata": {
        "colab": {
          "base_uri": "https://localhost:8080/"
        },
        "id": "sIL4OSCwQ7dM",
        "outputId": "4d4ae448-9aea-4090-b596-6dee7b40369f"
      },
      "execution_count": null,
      "outputs": [
        {
          "output_type": "stream",
          "name": "stdout",
          "text": [
            " c2 \n",
            "c1\n"
          ]
        }
      ]
    },
    {
      "cell_type": "code",
      "source": [
        "#* Changing the functionality of builtin function\n",
        "class shooping:\n",
        "  def item_init_(self, l1):\n",
        "      self.items = l1\n",
        "\n",
        "  def __len__(self):\n",
        "     length = len(self.items)\n",
        "     return length\n",
        "\n",
        "s = shooping([1,2,3,4,5])\n",
        "print(len(s))\n",
        "s.iteam_list([1,2,3,4,5])\n"
      ],
      "metadata": {
        "id": "QRw4Ek0BS9Yy"
      },
      "execution_count": null,
      "outputs": []
    },
    {
      "cell_type": "code",
      "source": [
        "a = 9\n",
        "b = 6\n",
        "print(a+b)\n",
        "print(a.__add__(b))\n"
      ],
      "metadata": {
        "colab": {
          "base_uri": "https://localhost:8080/"
        },
        "id": "DdZB5uQNVxqT",
        "outputId": "2613ecc6-c778-4958-96a8-677ed46487f7"
      },
      "execution_count": null,
      "outputs": [
        {
          "output_type": "stream",
          "name": "stdout",
          "text": [
            "15\n",
            "15\n"
          ]
        }
      ]
    },
    {
      "cell_type": "code",
      "source": [
        "# ! ----> Method overloading\n",
        "# ? Eg:1\n",
        "class suming:\n",
        "  def add(self, a,b):\n",
        "     print(a+b)\n",
        "  def add(self,a,b,c):\n",
        "    print(a+b+c)\n",
        "\n",
        "s = suming()\n",
        "s.add(4,3) # error\n",
        "s.add(4,5,1)"
      ],
      "metadata": {
        "id": "K99uP_zieaNb"
      },
      "execution_count": null,
      "outputs": []
    },
    {
      "cell_type": "code",
      "source": [
        "class suming:\n",
        "  def add(self, a=None, b=None, c= None):\n",
        "    if a!=None and b!= None and c!= None:\n",
        "      print(a+b+c)\n",
        "\n",
        "    elif a!=None and b!=None:\n",
        "      print(a+b)\n",
        "    else:\n",
        "       print(a)\n",
        "\n",
        "obj= suming()\n",
        "obj.add(2)\n",
        "obj.add(3,4)\n",
        "obj.add(1,2,3)"
      ],
      "metadata": {
        "colab": {
          "base_uri": "https://localhost:8080/"
        },
        "id": "AnYN60aNhDao",
        "outputId": "58244cd2-5fac-4c8e-a398-1216cce61b0a"
      },
      "execution_count": null,
      "outputs": [
        {
          "output_type": "stream",
          "name": "stdout",
          "text": [
            "2\n",
            "7\n",
            "6\n"
          ]
        }
      ]
    },
    {
      "cell_type": "code",
      "source": [
        "# !----> Abstraction.\n",
        "# The process of hiding the implimentation details is abstraction.\n",
        "#? Eg:1\n",
        "class shapes():\n",
        "  def sides(self):\n",
        "    print(\" All shapes have sides except circle\")\n",
        "class triangle(shapes):\n",
        "  def triangle_sides(self):\n",
        "    print(\"3 sides\")\n",
        "  def name(self):\n",
        "    print(\" I am triangle\")\n",
        "  def sides(self):\n",
        "    pass\n",
        "class square(shapes):\n",
        "   def square(self):\n",
        "    print(\"4 sides\")\n",
        "   def sides(self):\n",
        "    pass\n",
        "\n",
        "tr = triangle()\n",
        "tr.triangle_sides()\n",
        "tr.name()\n",
        "\n",
        "\n"
      ],
      "metadata": {
        "id": "1i9LGqQhlCvd",
        "colab": {
          "base_uri": "https://localhost:8080/"
        },
        "outputId": "7e83f13f-8505-48a9-a784-a90eb9423b24"
      },
      "execution_count": 7,
      "outputs": [
        {
          "output_type": "stream",
          "name": "stdout",
          "text": [
            "3 sides\n",
            " I am triangle\n"
          ]
        }
      ]
    },
    {
      "cell_type": "code",
      "source": [
        "# form abc import ABC, abstractmenthod\n",
        "class c1():\n",
        "  @abstractmenthod\n",
        "  def m1(self):\n",
        "      print(\" This is abstract class\")\n",
        "class c2(c2):\n",
        "  def m2(self):\n",
        "    super().m1()\n",
        "    print(\" I am child 1\")\n",
        "  def m1(self):\n",
        "    pass\n",
        "class2 =c2()\n",
        "class2.m2()"
      ],
      "metadata": {
        "id": "ct8jE2inItYo"
      },
      "execution_count": null,
      "outputs": []
    },
    {
      "cell_type": "code",
      "source": [
        "from abc import ABC,abstractmethod\n",
        "class c1(ABC):\n",
        "   # @abstracted\n",
        "    def m1(self):\n",
        "        print(\"This is abstract class\")\n",
        "\n",
        "class c2(c1):\n",
        "    def m2(self):\n",
        "        super().m1()\n",
        "        print(\"Iam child 1\")\n",
        "\n",
        "    def m1(self):\n",
        "        pass\n",
        "\n",
        "class2 = c2()\n",
        "class2.m2()"
      ],
      "metadata": {
        "colab": {
          "base_uri": "https://localhost:8080/"
        },
        "id": "lQATnEZrLesv",
        "outputId": "f009f495-b830-48c5-d11b-b002611ad198"
      },
      "execution_count": 14,
      "outputs": [
        {
          "output_type": "stream",
          "name": "stdout",
          "text": [
            "This is abstract class\n",
            "Iam child 1\n"
          ]
        }
      ]
    },
    {
      "cell_type": "code",
      "source": [
        "# ? Eg:3\n",
        "from abc import ABC,abstractmethod\n",
        "class password:\n",
        "  @abstractmethod\n",
        "  def pwd(self):\n",
        "    password = \"sandeep123\"\n",
        "    return password\n",
        "\n",
        "class login:\n",
        "  def validate(self, name,password):\n",
        "    if super().pwd() == password:\n",
        "         print(\" Welcome\", name,'!!')\n",
        "         print(\"login successfull\")''\n",
        "    else:\n",
        "         print(\" pleasw check the password\")\n",
        "  def passwrd(self):\n",
        "    pass\n",
        "\n",
        "Login =login()\n",
        "name = input(\"Enter the name:\")\n",
        "password = input(\" Enter the password\")\n",
        "Login.validate(name,password)\n"
      ],
      "metadata": {
        "id": "Vicen0GSLwZn"
      },
      "execution_count": null,
      "outputs": []
    },
    {
      "cell_type": "code",
      "source": [
        "# ! Encapsulation\n",
        "# ?---->Eg1:\n",
        "class car:\n",
        "  __name = \"BMW\"\n",
        "  print(__name)\n",
        "c1 = car()\n",
        "print(c1.name)\n",
        "c1.name(c1.name)\n",
        "print(c1.name)\n"
      ],
      "metadata": {
        "id": "kqD7Wl1qSSk-"
      },
      "execution_count": null,
      "outputs": []
    },
    {
      "cell_type": "code",
      "source": [
        "# ? Eg:2\n",
        "# ? Accessing privatr data outside the class\n",
        "class c1:\n",
        "  __phone = '123456789'\n",
        "\n",
        "  def display(Self):\n",
        "    print(self.__phone)\n",
        "c = c1()\n",
        "c.display()"
      ],
      "metadata": {
        "id": "VuSx5XuFaCad"
      },
      "execution_count": null,
      "outputs": []
    },
    {
      "cell_type": "code",
      "source": [
        "# ? Eg:3\n",
        "# ? declare private method\n",
        "class class1:\n",
        "    def __m1(self):\n",
        "     print(\" I am private method\")\n",
        "    def __init__(self):\n",
        "       self.__m1()\n",
        "\n",
        "c= class1()"
      ],
      "metadata": {
        "colab": {
          "base_uri": "https://localhost:8080/"
        },
        "id": "UfaCvjE9bFis",
        "outputId": "be3a508c-a1ea-41d9-f037-5af39cebb54d"
      },
      "execution_count": 49,
      "outputs": [
        {
          "output_type": "stream",
          "name": "stdout",
          "text": [
            " I am private method\n"
          ]
        }
      ]
    },
    {
      "cell_type": "code",
      "source": [
        "# ? Eg:3\n",
        "# ? declare private method\n",
        "class class1:\n",
        "    def __m1(self):\n",
        "     print(\" I am private method\")\n",
        "    def __init__(self):\n",
        "       self.__m1()\n",
        "\n",
        "c= class1()\n",
        "c.__m1() # Error"
      ],
      "metadata": {
        "colab": {
          "base_uri": "https://localhost:8080/",
          "height": 199
        },
        "id": "GGk42kSJckia",
        "outputId": "fa624be1-13f7-4ddd-a728-2a7f7d8ec3f3"
      },
      "execution_count": 50,
      "outputs": [
        {
          "output_type": "stream",
          "name": "stdout",
          "text": [
            " I am private method\n"
          ]
        },
        {
          "output_type": "error",
          "ename": "AttributeError",
          "evalue": "'class1' object has no attribute '__m1'",
          "traceback": [
            "\u001b[0;31m---------------------------------------------------------------------------\u001b[0m",
            "\u001b[0;31mAttributeError\u001b[0m                            Traceback (most recent call last)",
            "\u001b[0;32m<ipython-input-50-56cf0b8ed67f>\u001b[0m in \u001b[0;36m<cell line: 10>\u001b[0;34m()\u001b[0m\n\u001b[1;32m      8\u001b[0m \u001b[0;34m\u001b[0m\u001b[0m\n\u001b[1;32m      9\u001b[0m \u001b[0mc\u001b[0m\u001b[0;34m=\u001b[0m \u001b[0mclass1\u001b[0m\u001b[0;34m(\u001b[0m\u001b[0;34m)\u001b[0m\u001b[0;34m\u001b[0m\u001b[0;34m\u001b[0m\u001b[0m\n\u001b[0;32m---> 10\u001b[0;31m \u001b[0mc\u001b[0m\u001b[0;34m.\u001b[0m\u001b[0m__m1\u001b[0m\u001b[0;34m(\u001b[0m\u001b[0;34m)\u001b[0m\u001b[0;34m\u001b[0m\u001b[0;34m\u001b[0m\u001b[0m\n\u001b[0m",
            "\u001b[0;31mAttributeError\u001b[0m: 'class1' object has no attribute '__m1'"
          ]
        }
      ]
    },
    {
      "cell_type": "code",
      "source": [
        "# ? nested class\n",
        "class class1:\n",
        "  class class2:\n",
        "    name = \" sandeep\"\n",
        "\n",
        "    def display(self):\n",
        "      print(self.name)\n",
        "  obj1 = class2()\n",
        "\n",
        "obj = class1()\n",
        "obj.obj1.display()"
      ],
      "metadata": {
        "colab": {
          "base_uri": "https://localhost:8080/"
        },
        "id": "LTD45pc0c_1r",
        "outputId": "893f32e9-cd5f-408a-9aa3-b83cebf14258"
      },
      "execution_count": 54,
      "outputs": [
        {
          "output_type": "stream",
          "name": "stdout",
          "text": [
            " sandeep\n"
          ]
        }
      ]
    },
    {
      "cell_type": "code",
      "source": [],
      "metadata": {
        "id": "s-zuNFKJej7s"
      },
      "execution_count": null,
      "outputs": []
    }
  ]
}
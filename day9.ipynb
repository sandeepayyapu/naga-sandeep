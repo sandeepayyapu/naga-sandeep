{
  "nbformat": 4,
  "nbformat_minor": 0,
  "metadata": {
    "colab": {
      "provenance": []
    },
    "kernelspec": {
      "name": "python3",
      "display_name": "Python 3"
    },
    "language_info": {
      "name": "python"
    }
  },
  "cells": [
    {
      "cell_type": "code",
      "execution_count": 1,
      "metadata": {
        "colab": {
          "base_uri": "https://localhost:8080/"
        },
        "id": "yc5T1lqW76YN",
        "outputId": "93cdb0e6-4eb3-4bd0-ef7b-5bdecb362109"
      },
      "outputs": [
        {
          "output_type": "stream",
          "name": "stdout",
          "text": [
            "Enter your name: sandy\n",
            "Hello, sandy! Welcome to the Python program.\n"
          ]
        }
      ],
      "source": [
        "def main():\n",
        "    # Prompt the user to enter their name\n",
        "    name = input(\"Enter your name: \")\n",
        "\n",
        "    # Greet the user\n",
        "    print(\"Hello, \" + name + \"! Welcome to the Python program.\")\n",
        "\n",
        "if __name__ == \"__main__\":\n",
        "    main()"
      ]
    },
    {
      "cell_type": "code",
      "source": [
        "class parent:\n",
        "   name = \" sandeep\"\n",
        "\n",
        "class child(parent):\n",
        "  name = \"name1\"\n",
        "\n",
        "  def display(self):\n",
        "    print(self.name)\n",
        "\n",
        "d = child()\n",
        "d.display"
      ],
      "metadata": {
        "colab": {
          "base_uri": "https://localhost:8080/",
          "height": 103
        },
        "id": "6UyLzy9bz2y6",
        "outputId": "7042a9d1-c138-4187-c187-de243474826c"
      },
      "execution_count": 3,
      "outputs": [
        {
          "output_type": "execute_result",
          "data": {
            "text/plain": [
              "<bound method child.display of <__main__.child object at 0x7a66749bae30>>"
            ],
            "text/html": [
              "<div style=\"max-width:800px; border: 1px solid var(--colab-border-color);\"><style>\n",
              "      pre.function-repr-contents {\n",
              "        overflow-x: auto;\n",
              "        padding: 8px 12px;\n",
              "        max-height: 500px;\n",
              "      }\n",
              "\n",
              "      pre.function-repr-contents.function-repr-contents-collapsed {\n",
              "        cursor: pointer;\n",
              "        max-height: 100px;\n",
              "      }\n",
              "    </style>\n",
              "    <pre style=\"white-space: initial; background:\n",
              "         var(--colab-secondary-surface-color); padding: 8px 12px;\n",
              "         border-bottom: 1px solid var(--colab-border-color);\"><b>child.display</b><br/>def display()</pre><pre class=\"function-repr-contents function-repr-contents-collapsed\" style=\"\"><a class=\"filepath\" style=\"display:none\" href=\"#\">/content/&lt;ipython-input-3-e3f165d2f7f0&gt;</a>&lt;no docstring&gt;</pre></div>"
            ]
          },
          "metadata": {},
          "execution_count": 3
        }
      ]
    },
    {
      "cell_type": "code",
      "source": [
        "# mutlilevel inheritance\n",
        "# ! Eg:1\n",
        "class voice:\n",
        "   def sound(self):\n",
        "    print(\" All the animals have their own voices\")\n",
        "class dog(voice):\n",
        "   def dog_voice(self):\n",
        "     print( \"bark \")\n",
        "class cat(parrot):\n",
        "  def parrot_voice(self):\n",
        "    print(\"Meow\")\n",
        "class parrot(cat):\n",
        "  def cat_voice(self):\n",
        "    print(\" speak\")\n",
        "\n",
        "\n",
        "all = parrot()\n",
        "all. dog_voice()\n",
        "all. cat_voice()\n",
        "all. sound()\n",
        "all. parrot_voice()\n"
      ],
      "metadata": {
        "id": "lTKOxGqHz3Zx"
      },
      "execution_count": null,
      "outputs": []
    },
    {
      "cell_type": "code",
      "source": [
        "class honda_city:\n",
        "  def engine_specs(self,cc,hp,torque,fuel_type,num_of_piston):\n",
        "     print(cc,Hp,torque, fuel_type, num_of_piston)\n",
        "\n",
        "  def"
      ],
      "metadata": {
        "id": "IvYbECmwz3tV"
      },
      "execution_count": null,
      "outputs": []
    },
    {
      "cell_type": "code",
      "source": [
        "class honda_city: I\n",
        "def honda_city_engine_specs (self, cc, Hp, torque, fuel_type, num_of_piston):\n",
        "         print (cc, Hp, torque, fuel_type, num_of_piston)\n",
        "\n",
        "def honda_city_body_specs (self, color, weight, height, length, vehicle_type):\n",
        "        print(color, weight, height, length, vehicle_type)\n",
        "\n",
        "class amaze (honda_city):\n",
        "def amaze_engine_specs (self, cc, Hp, torque, fuel_type, num_of_piston):\n",
        "print (cc, Hp, torque, fuel_type, num_of_piston)\n",
        "\n",
        "def amaze_body_specs (self, color, weight, height, length, vehicle_type):\n",
        "print(color, weight, height, length, vehicle_type)\n",
        "\n",
        "class Honda(civic):\n",
        "    pass\n",
        "\n",
        "honda = Honda()\n",
        "honda.honda_city_engine_specs(1500, 230, 2979, \"petrol\", 4)\n",
        "honda.civic_body_specs(\"white\", 2000, 5.5, \"Hatchback\")\n"
      ],
      "metadata": {
        "colab": {
          "base_uri": "https://localhost:8080/",
          "height": 109
        },
        "id": "LdbUu_7gAYul",
        "outputId": "273e9397-38c7-40d9-be9a-01e5530a7339"
      },
      "execution_count": 11,
      "outputs": [
        {
          "output_type": "error",
          "ename": "IndentationError",
          "evalue": "expected an indented block after function definition on line 2 (<ipython-input-11-d579c14c1705>, line 3)",
          "traceback": [
            "\u001b[0;36m  File \u001b[0;32m\"<ipython-input-11-d579c14c1705>\"\u001b[0;36m, line \u001b[0;32m3\u001b[0m\n\u001b[0;31m    print (cc, Hp, torque, fuel_type, num_of_piston)\u001b[0m\n\u001b[0m    ^\u001b[0m\n\u001b[0;31mIndentationError\u001b[0m\u001b[0;31m:\u001b[0m expected an indented block after function definition on line 2\n"
          ]
        }
      ]
    },
    {
      "cell_type": "code",
      "source": [
        "# Multiple Inheritance\n",
        " #? It has multiple parent and 1 child\n",
        "class while_pertol:\n",
        "    def function_w(self):\n",
        "        print(\"used to Airplans\")\n",
        "\n",
        "class Organic_petrol:\n",
        "    def function_o(self):\n",
        "        print(\"used for Bike, cars\")\n",
        "\n",
        "class premium_petrol:\n",
        "    def function_p(self):\n",
        "        print(\"spots cars, bikes\")\n",
        "\n",
        "class petrol(while_pertol, Organic_petrol, premium_petrol):\n",
        "    def defanition(self):\n",
        "        print(\"Petrols types\")\n",
        "\n",
        "p=petrol()\n",
        "p.defanition()\n",
        "p.function_o()\n"
      ],
      "metadata": {
        "colab": {
          "base_uri": "https://localhost:8080/"
        },
        "id": "EBAxUsZQ9qO7",
        "outputId": "439f0f8e-9993-43b4-d916-17483d41056e"
      },
      "execution_count": 9,
      "outputs": [
        {
          "output_type": "stream",
          "name": "stdout",
          "text": [
            "Petrols types\n",
            "used for Bike, cars\n"
          ]
        }
      ]
    },
    {
      "cell_type": "code",
      "source": [
        "# ! multilevel inheritance\n",
        "# ? eg:1\n",
        "\n",
        "class voice:\n",
        "          def sound(self):\n",
        "              print(\"all the animals have there own voice\")\n",
        "\n",
        "class dog(voice):\n",
        "    def dog_voice(self):\n",
        "        print(\"bark\")\n",
        "\n",
        "class cat(dog):\n",
        "    def cat_voice(self):\n",
        "       print(\"meow\")\n",
        "\n",
        "class parrot(cat):\n",
        "    def parrot_voice(self):\n",
        "        print(\"speak\")\n",
        "\n",
        "all = parrot()\n",
        "all.dog_voice()\n",
        "all.cat_voicve()\n",
        "all.sound()\n",
        "all.parrot_voice()\n"
      ],
      "metadata": {
        "id": "Cqp4Ma6sAw1M"
      },
      "execution_count": null,
      "outputs": []
    },
    {
      "cell_type": "code",
      "source": [
        "class parent:\n",
        "    name = \"afzal\"\n",
        "\n",
        "class child(parent):\n",
        "   name = \"hero\"\n",
        "\n",
        " def display(self):\n",
        "        print(self.name)\n",
        "\n",
        "d = child()\n",
        "d.display()"
      ],
      "metadata": {
        "id": "QT4zVwijBX_5"
      },
      "execution_count": null,
      "outputs": []
    },
    {
      "cell_type": "code",
      "source": [
        "# ! Eg:2\n",
        "# MRO --> Method resolution Order\n",
        "class addition:\n",
        "    def add(self, a, b):\n",
        "        print(a+b)\n",
        "\n",
        "    def mul(self, a, b):\n",
        "        print(a%b)\n",
        "\n",
        "class subract:\n",
        "    def sub(self, a, b):\n",
        "        print(a-b)\n",
        "class multiply:\n",
        "    def mul(self, a, b):\n",
        "        print(a*b)\n",
        "class division(addition, subract, multiply):\n",
        "    def div(self, a, b):\n",
        "        print(a/b)\n",
        "\n",
        "calc = division()\n",
        "# calc.add(3, 4)\n",
        "calc.mul(4, 2)"
      ],
      "metadata": {
        "colab": {
          "base_uri": "https://localhost:8080/"
        },
        "id": "8dqlK2MeB6n_",
        "outputId": "e63379bb-da9e-4499-835b-c69c6ef622ea"
      },
      "execution_count": 16,
      "outputs": [
        {
          "output_type": "stream",
          "name": "stdout",
          "text": [
            "0\n"
          ]
        }
      ]
    },
    {
      "cell_type": "code",
      "source": [
        "# Hybrid inheritance\n",
        "# ? The combination of above 4 inheritance is called hybrid inheritance\n",
        "class c1:\n",
        "  def m1(self):\n",
        "    print(\"class1\")\n",
        "class c2(c1):\n",
        "  def m2(self):\n",
        "    print(\"class2\")\n",
        "class c3(c2):\n",
        "   def m3(slef):\n",
        "    print(\"class3\")\n",
        "\n",
        "class c4(c2):\n",
        "   def m4(slef):\n",
        "    print(\"class4\")\n",
        "class c5(c3):\n",
        "   def m5(slef):\n",
        "    print(\"class5\")\n",
        "class c6(c5, c4, c2, c1):\n",
        "   def m6(slef):\n",
        "    print(\"class6\")\n",
        "\n",
        "obj = c6()\n",
        "obj.m1()\n",
        "obj.m2()\n",
        "obj.m3()\n",
        "obj.m4()\n",
        "obj.m4()\n",
        "obj.m5()\n",
        "obj.m6()\n",
        ""
      ],
      "metadata": {
        "colab": {
          "base_uri": "https://localhost:8080/"
        },
        "id": "ulUtxoMxC3rH",
        "outputId": "24dafd71-1101-4f2c-8952-646b3d7c26b3"
      },
      "execution_count": 24,
      "outputs": [
        {
          "output_type": "stream",
          "name": "stdout",
          "text": [
            "class1\n",
            "class2\n",
            "class3\n",
            "class4\n",
            "class4\n",
            "class5\n",
            "class6\n"
          ]
        }
      ]
    },
    {
      "cell_type": "code",
      "source": [
        "# ?---->polymorphism\n",
        "# poly - many , morph ----> form\n",
        "# A function which has the ability  to perform more than 1 functionality then it is considered to be as plioymorphism.\n",
        "\n",
        "#* polymorphism in builtin functions\n",
        "# len()---> which is used to find the length of list, tuple,dict etc...\n",
        "# index()\n",
        "# man()\n",
        "# min()\n",
        "# count()\n",
        "# pop()\n",
        "# and more....\n",
        "\n",
        "\n",
        "# * polymorphism in operators\n",
        "# +\n",
        "# print(8+8)\n",
        "# print(\"k\"+'l')\n",
        "# print([1,2,3]+[5,6])\n",
        "\n",
        "# print( 6*7)\n",
        "# l1 = {1,2,3,4,5,6}\n",
        "# print(l1)"
      ],
      "metadata": {
        "colab": {
          "base_uri": "https://localhost:8080/"
        },
        "id": "__eM3MZMPKPA",
        "outputId": "232e80b4-a091-498d-c85b-d8d7ca9bdc96"
      },
      "execution_count": 27,
      "outputs": [
        {
          "output_type": "stream",
          "name": "stdout",
          "text": [
            "42\n",
            "{1, 2, 3, 4, 5, 6}\n"
          ]
        }
      ]
    },
    {
      "cell_type": "code",
      "source": [
        "# l1 = [1,2,3,4]\n",
        "# print(l1*10)"
      ],
      "metadata": {
        "colab": {
          "base_uri": "https://localhost:8080/"
        },
        "id": "hyiFij4bWIh2",
        "outputId": "f49dc3d6-dcb8-46ed-9d63-40e2110079d4"
      },
      "execution_count": 29,
      "outputs": [
        {
          "output_type": "stream",
          "name": "stdout",
          "text": [
            "[1, 2, 3, 4, 1, 2, 3, 4, 1, 2, 3, 4, 1, 2, 3, 4, 1, 2, 3, 4, 1, 2, 3, 4, 1, 2, 3, 4, 1, 2, 3, 4, 1, 2, 3, 4, 1, 2, 3, 4]\n"
          ]
        }
      ]
    },
    {
      "cell_type": "code",
      "source": [
        "# polymorphism in classes\n",
        "# we can achieve polymorphism in 2 ways\n",
        "# 1.) Method overloading--> it is not possible in python\n",
        "# 2.) method overriding\n"
      ],
      "metadata": {
        "id": "9OgUC35SWbPR"
      },
      "execution_count": null,
      "outputs": []
    },
    {
      "cell_type": "code",
      "source": [
        "#1 Tasks\n",
        "d1 = {\" shirt\":1000, \"pant\":1500, \"shoes\":900, \"handkey\":30}\n",
        "1.) Find the min ans max priced product\n",
        "2.) Find the prouct starts with 's' and 'S'\n",
        "\n",
        "# 2.) Find the n= 67, is storong number or not\n",
        "\n",
        "# 3.) l1 =[1,2,3,4,5,6,]\n",
        "      n= 2--->[5,6,1,2,3,4]\n",
        "      n= 3--->[4,5,6,1,2,3]"
      ],
      "metadata": {
        "id": "x49xZ5wkXn80"
      },
      "execution_count": null,
      "outputs": []
    }
  ]
}